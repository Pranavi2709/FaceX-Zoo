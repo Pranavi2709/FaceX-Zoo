{
  "nbformat": 4,
  "nbformat_minor": 0,
  "metadata": {
    "colab": {
      "provenance": [],
      "include_colab_link": true
    },
    "kernelspec": {
      "name": "python3",
      "display_name": "Python 3"
    },
    "language_info": {
      "name": "python"
    },
    "accelerator": "GPU",
    "gpuClass": "standard"
  },
  "cells": [
    {
      "cell_type": "markdown",
      "metadata": {
        "id": "view-in-github",
        "colab_type": "text"
      },
      "source": [
        "<a href=\"https://colab.research.google.com/github/Pranavi2709/FaceX-Zoo/blob/main/IchiPadeddam.ipynb\" target=\"_parent\"><img src=\"https://colab.research.google.com/assets/colab-badge.svg\" alt=\"Open In Colab\"/></a>"
      ]
    },
    {
      "cell_type": "code",
      "source": [
        "import pandas as pd\n",
        "  \n",
        "# Creating Empty DataFrame and Storing it in variable df\n",
        "df = pd.DataFrame(columns=['SNo','ImageName',])\n",
        "print(df)"
      ],
      "metadata": {
        "colab": {
          "base_uri": "https://localhost:8080/"
        },
        "id": "D-pLNq37JdnC",
        "outputId": "62301769-515a-4921-b556-5a26c127c156"
      },
      "execution_count": null,
      "outputs": [
        {
          "output_type": "stream",
          "name": "stdout",
          "text": [
            "Empty DataFrame\n",
            "Columns: [SNo, ImageName]\n",
            "Index: []\n"
          ]
        }
      ]
    },
    {
      "cell_type": "code",
      "execution_count": null,
      "metadata": {
        "colab": {
          "base_uri": "https://localhost:8080/"
        },
        "id": "mDOFhfvZ5UV7",
        "outputId": "da5198e8-e369-4178-8acb-51f7def32b66"
      },
      "outputs": [
        {
          "output_type": "stream",
          "name": "stdout",
          "text": [
            "['   1.0000000e+00   2.0000000e+00', '   2.0000000e+00   1.0000000e+00', '   4.0000000e+00   4.0000000e+00', '   5.0000000e+00   3.0000000e+00', '   1.0000000e+01   3.0000000e+00', '   1.4000000e+01   2.0000000e+00', '   1.6000000e+01   2.0000000e+00', '   2.0000000e+01   2.0000000e+00', '   2.5000000e+01   4.0000000e+00', '']\n",
            "1 2.0\n",
            "2 1.0\n",
            "4 4.0\n",
            "5 3.0\n",
            "10 3.0\n",
            "14 2.0\n",
            "16 2.0\n",
            "20 2.0\n",
            "25 4.0\n"
          ]
        }
      ],
      "source": [
        "with open(\"/content/sample_data/S999_003_00000055_facs.txt\") as f:\n",
        "  data=f.read()\n",
        "  action_units=data.split(\"\\n\") #action_units->list of [AU,value]\n",
        "  print(action_units)\n",
        "  action_units=action_units[:-1]\n",
        "  for action_unit in action_units: \n",
        "    extract=action_unit.split(\" \") #action_unit-> list of AU,value and whitespaces\n",
        "    reqd=[]\n",
        "    for those in extract:\n",
        "      if(those!=''):\n",
        "        reqd.append(float(those))\n",
        "    print(int(reqd[0]),reqd[1])\n",
        "    \"\"\"with open(\"FACS_Emotions_Labels.csv\") as file:\n",
        "             writer = csv.writer(file)\n",
        "             writer.writerow(column_names)\"\"\"\n",
        "        "
      ]
    },
    {
      "cell_type": "code",
      "source": [
        "import csv\n",
        "with open('FACS_Emotions_Labels.csv', 'w', newline='') as file:\n",
        "     writer = csv.writer(file)\n",
        "     column_names=[\"SNo\",\"ImageName\",\"Emotion\"]\n",
        "     for i in range(1,31):\n",
        "       name=\"AU_{x}\".format(x=i)\n",
        "       column_names.append(name)\n",
        "     writer.writerow(column_names)\n",
        "     scskiciwskvw\n",
        "     "
      ],
      "metadata": {
        "id": "HfWjnhqC9LP7"
      },
      "execution_count": null,
      "outputs": []
    },
    {
      "cell_type": "code",
      "source": [],
      "metadata": {
        "id": "8_F7G88E_8tM"
      },
      "execution_count": null,
      "outputs": []
    }
  ]
}